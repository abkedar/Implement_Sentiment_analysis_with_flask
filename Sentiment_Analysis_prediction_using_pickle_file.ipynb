{
  "nbformat": 4,
  "nbformat_minor": 0,
  "metadata": {
    "colab": {
      "name": "Sentiment_Analysis_prediction_using_pickle_file.ipynb",
      "provenance": []
    },
    "kernelspec": {
      "name": "python3",
      "display_name": "Python 3"
    }
  },
  "cells": [
    {
      "cell_type": "code",
      "metadata": {
        "colab": {
          "base_uri": "https://localhost:8080/"
        },
        "id": "mCwVq0sh92xn",
        "outputId": "176649a9-df02-43ff-9764-8569aa6b130f"
      },
      "source": [
        "!pip install pickle-mixin\r\n",
        "import pickle"
      ],
      "execution_count": 1,
      "outputs": [
        {
          "output_type": "stream",
          "text": [
            "Collecting pickle-mixin\n",
            "  Downloading https://files.pythonhosted.org/packages/02/77/9d5eb2201bbc130e2a5cc41fc949e4ab0da74b619107eac1c511be3af7a7/pickle-mixin-1.0.2.tar.gz\n",
            "Building wheels for collected packages: pickle-mixin\n",
            "  Building wheel for pickle-mixin (setup.py) ... \u001b[?25l\u001b[?25hdone\n",
            "  Created wheel for pickle-mixin: filename=pickle_mixin-1.0.2-cp36-none-any.whl size=5999 sha256=b98a6789f5a363915a31ae9a0667891df600947f32851d18371fa6b9c41160ac\n",
            "  Stored in directory: /root/.cache/pip/wheels/cd/05/42/71de70fa36b9cbb7657bb5793a16f8028c1cdc1bdd3b8e1ac3\n",
            "Successfully built pickle-mixin\n",
            "Installing collected packages: pickle-mixin\n",
            "Successfully installed pickle-mixin-1.0.2\n"
          ],
          "name": "stdout"
        }
      ]
    },
    {
      "cell_type": "code",
      "metadata": {
        "colab": {
          "base_uri": "https://localhost:8080/"
        },
        "id": "sEaqpzDh92r0",
        "outputId": "f782a084-0289-47f3-9cf0-0692e0d1e4c5"
      },
      "source": [
        "from google.colab import drive\r\n",
        "drive.mount('/content/drive')"
      ],
      "execution_count": 2,
      "outputs": [
        {
          "output_type": "stream",
          "text": [
            "Mounted at /content/drive\n"
          ],
          "name": "stdout"
        }
      ]
    },
    {
      "cell_type": "code",
      "metadata": {
        "id": "GNktkLvY9o2k"
      },
      "source": [
        "cv1=pickle.load(open('/content/drive/MyDrive/pickle_file/tranform.pkl','rb'))\r\n",
        "pickle_model = pickle.load(open('/content/drive/MyDrive/pickle_file/Pickle_RL_Model.pkl', 'rb'))"
      ],
      "execution_count": 19,
      "outputs": []
    },
    {
      "cell_type": "code",
      "metadata": {
        "colab": {
          "base_uri": "https://localhost:8080/"
        },
        "id": "hXOjecIs9fjJ",
        "outputId": "54ccf062-843b-4086-acd4-aa6cd2cc3f50"
      },
      "source": [
        "movie_review = ['this movie was good']              ############## request.form['text']\r\n",
        "#review = [[word.lower() for word in line.split()] for line in movie_review]\r\n",
        "vect = cv1.transform(movie_review)[0].toarray()\r\n",
        "#final_features = [np.array(int_features)]\r\n",
        "prediction = pickle_model.predict(vect)\r\n",
        "prediction"
      ],
      "execution_count": 20,
      "outputs": [
        {
          "output_type": "execute_result",
          "data": {
            "text/plain": [
              "array(['positive'], dtype=object)"
            ]
          },
          "metadata": {
            "tags": []
          },
          "execution_count": 20
        }
      ]
    }
  ]
}